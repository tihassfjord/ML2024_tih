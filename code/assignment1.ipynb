{
 "cells": [
  {
   "cell_type": "markdown",
   "metadata": {},
   "source": [
    "# Introduction\n",
    "\n",
    "Welcome to my report on Assignment 1 for the Machine Learning course (Fys-2021)!\n",
    "\n",
    "In this report, we will explore the fundamental concepts and techniques of machine learning. Machine learning is a fascinating field of study that focuses on developing algorithms and models that enable computers to learn from data and make predictions or decisions without being explicitly programmed.\n",
    "\n",
    "Throughout this report, we will cover various topics related to machine learning, including supervised learning, unsupervised learning, data preprocessing, model evaluation, and introduction to deep learning. We will delve into the concepts, algorithms, and techniques used in each of these areas, providing a comprehensive understanding of the subject matter.\n",
    "\n",
    "The main objectives of this report are:\n",
    "\n",
    "1. To provide a clear and concise overview of the key concepts and techniques in machine learning.\n",
    "2. To demonstrate an understanding of the practical application of machine learning algorithms.\n",
    "3. To showcase the ability to preprocess data, train models, and evaluate their performance.\n",
    "4. To explore the potential of deep learning and its applications in various domains.\n",
    "\n",
    "By the end of this report, you will have gained valuable insights into the field of machine learning and developed practical skills in applying machine learning algorithms to real-world datasets.\n",
    "\n",
    "Let's dive into the exciting world of machine learning and explore the possibilities it offers for building intelligent systems!\n",
    "\n"
   ]
  },
  {
   "cell_type": "markdown",
   "metadata": {},
   "source": [
    "### (1a) \n",
    "\n",
    "Load the SpotifyFeatures.csv file and report the number of samples (songs) as well as the number of\n",
    "features (song properties) in the dataset. Hint: you may use the Python module Pandas and its function\n",
    "read_csv."
   ]
  },
  {
   "cell_type": "code",
   "execution_count": 23,
   "metadata": {},
   "outputs": [
    {
     "name": "stdout",
     "output_type": "stream",
     "text": [
      "Number of samples: 232725\n",
      "Number of features: 18\n"
     ]
    }
   ],
   "source": [
    "import pandas as pd \n",
    "\n",
    "# load the data\n",
    "data = pd.read_csv('../data/SpotifyFeatures.csv')\n",
    "# print(data.head())\n",
    "# report number of samples (rows) and features (columns)\n",
    "num_samples, num_features = data.shape[0], data.shape[1] \n",
    "print(f'Number of samples: {num_samples}')\n",
    "print(f'Number of features: {num_features}')\n",
    "\n"
   ]
  },
  {
   "cell_type": "markdown",
   "metadata": {},
   "source": [
    "## (1b) \n",
    "\n",
    "Filter samples for 'Pop' and 'Classical', label them, and report the number of samples per class. Extract features 'liveness' and 'loudness'."
   ]
  },
  {
   "cell_type": "code",
   "execution_count": 25,
   "metadata": {},
   "outputs": [
    {
     "name": "stdout",
     "output_type": "stream",
     "text": [
      "Number of Pop songs: 9386\n",
      "Number of Classical songs: 9256\n"
     ]
    }
   ],
   "source": [
    "\n",
    "\n",
    "# Filter the dataset for Pop and Classical genres\n",
    "# Use .copy() to avoid the SettingWithCopyWarning by working on a copy of the slice.\n",
    "pop_classical_df = data[data['genre'].isin(['Pop', 'Classical'])].copy()\n",
    "\n",
    "# Create labels: 'Pop' = 1, 'Classical' = 0\n",
    "# Use .loc to explicitly modify the DataFrame and avoid modifying the slice in place, which may trigger warnings.\n",
    "pop_classical_df.loc[:, 'label'] = pop_classical_df['genre'].apply(lambda x: 1 if x == 'Pop' else 0)\n",
    "\n",
    "# Report the number of samples for each class\n",
    "# .shape[0] returns the number of rows (songs) for each class.\n",
    "num_pop = pop_classical_df[pop_classical_df['label'] == 1].shape[0]\n",
    "num_classical = pop_classical_df[pop_classical_df['label'] == 0].shape[0]\n",
    "\n",
    "# Print the number of songs in each class\n",
    "print(f\"Number of Pop songs: {num_pop}\")\n",
    "print(f\"Number of Classical songs: {num_classical}\")\n",
    "\n",
    "# Extract only the 'liveness' and 'loudness' features into a numpy array\n",
    "features = pop_classical_df[['liveness', 'loudness']].values\n",
    "\n",
    "# Extract the labels (1 for Pop, 0 for Classical)\n",
    "labels = pop_classical_df['label'].values\n"
   ]
  },
  {
   "cell_type": "code",
   "execution_count": 32,
   "metadata": {},
   "outputs": [],
   "source": [
    "# import numpy as np\n",
    "\n",
    "# # Convert features ('liveness' and 'loudness') and labels to NumPy arrays\n",
    "# features = pop_classical_df[['liveness', 'loudness']].values\n",
    "# labels = pop_classical_df['label'].values\n",
    "\n",
    "# # Split the data manually while preserving the class distribution\n",
    "# def train_test_split_by_class(features, labels, test_size=0.2):\n",
    "#     # Separate data by class\n",
    "#     pop_features = features[labels == 1]\n",
    "#     classical_features = features[labels == 0]\n",
    "#     pop_labels = labels[labels == 1]\n",
    "#     classical_labels = labels[labels == 0]\n",
    "\n",
    "#     # Determine the number of test samples\n",
    "#     num_pop_test = int(test_size * len(pop_features))\n",
    "#     num_classical_test = int(test_size * len(classical_features))\n",
    "\n",
    "#     # Shuffle the indices\n",
    "#     pop_indices = np.random.permutation(len(pop_features))\n",
    "#     classical_indices = np.random.permutation(len(classical_features))\n",
    "\n",
    "#     # Split the pop songs into train and test sets\n",
    "#     pop_train_features = pop_features[pop_indices[num_pop_test:]]\n",
    "#     pop_test_features = pop_features[pop_indices[:num_pop_test]]\n",
    "#     pop_train_labels = pop_labels[pop_indices[num_pop_test:]]\n",
    "#     pop_test_labels = pop_labels[pop_indices[:num_pop_test]]\n",
    "\n",
    "#     # Split the classical songs into train and test sets\n",
    "#     classical_train_features = classical_features[classical_indices[num_classical_test:]]\n",
    "#     classical_test_features = classical_features[classical_indices[:num_classical_test]]\n",
    "#     classical_train_labels = classical_labels[classical_indices[num_classical_test:]]\n",
    "#     classical_test_labels = classical_labels[classical_indices[:num_classical_test]]\n",
    "\n",
    "#     # Concatenate pop and classical songs back together\n",
    "#     X_train = np.concatenate([pop_train_features, classical_train_features])\n",
    "#     X_test = np.concatenate([pop_test_features, classical_test_features])\n",
    "#     y_train = np.concatenate([pop_train_labels, classical_train_labels])\n",
    "#     y_test = np.concatenate([pop_test_labels, classical_test_labels])\n",
    "\n",
    "#     # Shuffle the training and test sets (optional but useful for better model generalization)\n",
    "#     train_indices = np.random.permutation(len(X_train))\n",
    "#     test_indices = np.random.permutation(len(X_test))\n",
    "\n",
    "#     return X_train[train_indices], X_test[test_indices], y_train[train_indices], y_test[test_indices]\n",
    "\n",
    "# # Perform the split\n",
    "# X_train, X_test, y_train, y_test = train_test_split_by_class(features, labels, test_size=0.2)\n",
    "\n",
    "# # Output the results\n",
    "# print(f\"Training set size: {len(X_train)}\")\n",
    "# print(f\"Test set size: {len(X_test)}\")\n"
   ]
  },
  {
   "cell_type": "code",
   "execution_count": 33,
   "metadata": {},
   "outputs": [
    {
     "name": "stdout",
     "output_type": "stream",
     "text": [
      "Training set size: 14913\n",
      "Test set size: 3729\n"
     ]
    }
   ],
   "source": [
    "from sklearn.model_selection import train_test_split\n",
    "\n",
    "# Split the data into training and test sets while preserving the class distribution\n",
    "X_train, X_test, y_train, y_test = train_test_split(features, labels, test_size=0.2, stratify=labels, random_state=42)\n",
    "\n",
    "# Output the results\n",
    "print(f\"Training set size: {len(X_train)}\")\n",
    "print(f\"Test set size: {len(X_test)}\")"
   ]
  },
  {
   "cell_type": "code",
   "execution_count": null,
   "metadata": {},
   "outputs": [],
   "source": [
    "\n"
   ]
  }
 ],
 "metadata": {
  "kernelspec": {
   "display_name": "Python312",
   "language": "python",
   "name": "python3"
  },
  "language_info": {
   "codemirror_mode": {
    "name": "ipython",
    "version": 3
   },
   "file_extension": ".py",
   "mimetype": "text/x-python",
   "name": "python",
   "nbconvert_exporter": "python",
   "pygments_lexer": "ipython3",
   "version": "3.12.5"
  }
 },
 "nbformat": 4,
 "nbformat_minor": 2
}
